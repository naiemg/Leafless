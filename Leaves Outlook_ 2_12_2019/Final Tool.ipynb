{
 "cells": [
  {
   "cell_type": "code",
   "execution_count": 5,
   "metadata": {},
   "outputs": [],
   "source": [
    "#CrossCompute\n",
    "\n",
    "ZipcodeInput = 11419\n",
    "\n",
    "target_folder = '/tmp'\n"
   ]
  },
  {
   "cell_type": "code",
   "execution_count": 24,
   "metadata": {},
   "outputs": [],
   "source": [
    "import pandas as pd\n",
    "from sodapy import Socrata # Used to access/ work with NYCOpenData API\n",
    "import folium\n",
    "\n",
    "\n",
    "# Grabbing data from API\n",
    "client = Socrata(\"data.cityofnewyork.us\",\n",
    "                'YFHnlAd1f74IprxACGOlr46td',\n",
    "                username=\"nycopendataninjas@gmail.com\",\n",
    "                password=\"DataNinjas4TheWin!\")\n",
    "\n",
    "# Limits the data to only trees that are ALIVE in that specified zipcode that was entered above^\n",
    "results = client.get(\"5rq2-4hqu\", zipcode = ZipcodeInput, status = 'Alive', limit=10000)\n",
    "\n",
    "# Convert to pandas DataFrame\n",
    "results_df = pd.DataFrame.from_records(results)\n",
    "\n",
    "# Only get the columns that are useful\n",
    "results_df = results_df[['tree_dbh', 'health','status','latitude','longitude','spc_latin']]            \n",
    "            \n",
    "# Replaces words with numbers so that it is easier to create a 'grade' for each tree\n",
    "results_df = results_df.replace(['Poor','Fair','Good'],[0,50,100])\n",
    "\n",
    "# 'tree_dbh' was an object, this converts it to an int so that it can be added to 'health' and 'status'\n",
    "results_df['tree_dbh'] = pd.to_numeric(results_df['tree_dbh'])\n",
    "\n",
    "# Anywhere there is an 'NaN', make it a zero\n",
    "results_df = results_df.fillna(0)\n",
    "\n",
    "df = pd.read_csv('Species_Types.csv')\n",
    "df = df.set_index('Species')\n",
    "\n",
    "results_df['Type'] = df.loc[results_df.spc_latin,'Type'].values\n",
    "\n",
    "results_df = results_df.replace(['deciduous','coniferous','evergreen','both'],[1,0,0,0])\n",
    "\n",
    "# Generates a final grade that will be the value of the weight on the heat map for each tree\n",
    "results_df['Final Grade'] = ((results_df.tree_dbh + results_df.health)/100)*results_df.Type"
   ]
  },
  {
   "cell_type": "code",
   "execution_count": 28,
   "metadata": {},
   "outputs": [
    {
     "name": "stdout",
     "output_type": "stream",
     "text": [
      "result_table_path = /tmp/results.csv\n"
     ]
    }
   ],
   "source": [
    "from os.path import join\n",
    "target_path = join(target_folder, 'results.csv')\n",
    "results_df.to_csv(target_path, index=False)\n",
    "print('result_table_path = %s' % target_path)"
   ]
  },
  {
   "cell_type": "code",
   "execution_count": 40,
   "metadata": {
    "scrolled": true
   },
   "outputs": [
    {
     "ename": "SyntaxError",
     "evalue": "EOL while scanning string literal (<ipython-input-40-59986c2c093e>, line 50)",
     "output_type": "error",
     "traceback": [
      "\u001b[0;36m  File \u001b[0;32m\"<ipython-input-40-59986c2c093e>\"\u001b[0;36m, line \u001b[0;32m50\u001b[0m\n\u001b[0;31m    with open(file_loc+'map_hooray) as html:\u001b[0m\n\u001b[0m                                            ^\u001b[0m\n\u001b[0;31mSyntaxError\u001b[0m\u001b[0;31m:\u001b[0m EOL while scanning string literal\n"
     ]
    }
   ],
   "source": [
    "from folium import plugins\n",
    "from folium.plugins import HeatMap\n",
    "\n",
    "# Centers the map at the first coordinate in that zipcode\n",
    "starting_Lat = results_df.iloc[0]['latitude']\n",
    "starting_Long = results_df.iloc[0]['longitude']\n",
    "\n",
    "# Coverts the starting points from string to float\n",
    "starting_Lat = pd.to_numeric(starting_Lat, downcast='float')\n",
    "starting_Long = pd.to_numeric(starting_Long, downcast='float')\n",
    "\n",
    "# Creates the map centered at that point^, b/w, zoomed in\n",
    "map_hooray = folium.Map(location=[starting_Lat, starting_Long],\n",
    "                    tiles = \"Stamen Toner\",\n",
    "                    zoom_start = 14.5)\n",
    "\n",
    "# Ensure you're handing it floats\n",
    "results_df['Latitude'] = results_df['latitude'].astype(float)\n",
    "results_df['Longitude'] = results_df['longitude'].astype(float)\n",
    "results_df['Final_Grade'] = results_df['Final Grade'].astype(float)\n",
    "\n",
    "results_df = results_df.fillna(0)\n",
    "\n",
    "# This is what we will be putting onto the map: Latitude, longitude, and a \"weight\"\n",
    "heat_data = [[row['Latitude'],row['Longitude'],row['Final Grade']] for index, row in results_df.iterrows()]\n",
    "\n",
    "# Plot it on the map\n",
    "HeatMap(heat_data, \n",
    "        min_opacity = 0.01, \n",
    "        max_val = 1.5, \n",
    "        blur = 20, \n",
    "       ).add_to(map_hooray)\n",
    "\n",
    "# Allows the map to go fullscreen\n",
    "folium.plugins.Fullscreen(position='topright',\n",
    "                          title='Full Screen',\n",
    "                          title_cancel='Exit Full Screen',\n",
    "                          force_separate_button=True\n",
    "                         ).add_to(map_hooray)\n",
    "\n",
    "# Display the map\n",
    "map_hooray\n",
    "\n",
    "\n",
    "from os.path import join\n",
    "import imgkit\n",
    "target_path = join(target_folder, 'results.csv')\n",
    "map_hooray.save('map.html')\n",
    "\n",
    "with open(file_loc+'map_hooray) as html:\n",
    "    html.write(s.set_table_attributes(\"border=1\").render())\n",
    "\n",
    "from IPython.core.display import display, HTML\n",
    "HTML(map_hooray.set_table_attributes(\"border=1\").render())"
   ]
  }
 ],
 "metadata": {
  "kernelspec": {
   "display_name": "Python 3",
   "language": "python",
   "name": "python3"
  },
  "language_info": {
   "codemirror_mode": {
    "name": "ipython",
    "version": 3
   },
   "file_extension": ".py",
   "mimetype": "text/x-python",
   "name": "python",
   "nbconvert_exporter": "python",
   "pygments_lexer": "ipython3",
   "version": "3.6.6"
  }
 },
 "nbformat": 4,
 "nbformat_minor": 2
}
