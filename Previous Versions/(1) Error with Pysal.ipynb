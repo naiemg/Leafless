{
 "cells": [
  {
   "cell_type": "code",
   "execution_count": 14,
   "metadata": {},
   "outputs": [],
   "source": [
    "# Prompts users to enter a zipcode in the tool\n",
    "# The default zipcode is 11419\n",
    "target_folder = '/tmp'\n",
    "\n",
    "ZipcodeInput = 11419"
   ]
  },
  {
   "cell_type": "code",
   "execution_count": 15,
   "metadata": {},
   "outputs": [],
   "source": [
    "import subprocess\n",
    "import sys\n",
    "\n",
    "# This function is used to install packages using pip\n",
    "# It's equivalent to doing 'pip install ______'\n",
    "def install(package):\n",
    "    subprocess.call([sys.executable, \"-m\", \"pip\", \"install\", package])\n",
    "\n",
    "install('sodapy') # Package for NYC OpenData API\n",
    "install('folium') # Package to generate map\n",
    "install('fiona') # Package used to find out what points are in a polygon\n",
    "install('pysal')"
   ]
  },
  {
   "cell_type": "code",
   "execution_count": 16,
   "metadata": {
    "scrolled": true
   },
   "outputs": [],
   "source": [
    "import pandas as pd\n",
    "from sodapy import Socrata # Used to access/ work with NYCOpenData API\n",
    "import folium"
   ]
  },
  {
   "cell_type": "code",
   "execution_count": 17,
   "metadata": {
    "scrolled": true
   },
   "outputs": [],
   "source": [
    "#################################\n",
    "# WORKING WITH CATCH BASIN DATA #\n",
    "#################################\n",
    "\n",
    "\n",
    "# Grabbing data from API\n",
    "client = Socrata(\"data.cityofnewyork.us\",\n",
    "                'YFHnlAd1f74IprxACGOlr46td',\n",
    "                username=\"nycopendataninjas@gmail.com\",\n",
    "                password=\"DataNinjas4TheWin!\")\n",
    "\n",
    "# Limits the data to only clogged catch basin complaints in a specified zipcode^\n",
    "results = client.get(\"fhrw-4uyv\", \n",
    "                     incident_zip = ZipcodeInput,\n",
    "                     complaint_type=\"Sewer\",\n",
    "                     descriptor = \"Catch Basin Clogged/Flooding (Use Comments) (SC)\",\n",
    "                     limit=10000)\n",
    "\n",
    "# Convert to pandas DataFrame\n",
    "df_threeOneOneReq = pd.DataFrame.from_records(results)\n",
    "\n",
    "# Only gets the location of these complaints\n",
    "complaintLoc = df_threeOneOneReq[['latitude','longitude']]"
   ]
  },
  {
   "cell_type": "code",
   "execution_count": 18,
   "metadata": {
    "scrolled": true
   },
   "outputs": [],
   "source": [
    "#################################\n",
    "# WORKING WITH TREE CENSUS DATA #\n",
    "#################################\n",
    "\n",
    "\n",
    "# Limits the data to only trees that are ALIVE in that specified zipcode that was entered above^\n",
    "results = client.get(\"5rq2-4hqu\",\n",
    "                     zipcode = ZipcodeInput,\n",
    "                     status = 'Alive',\n",
    "                     limit=10000)\n",
    "\n",
    "# Convert to pandas DataFrame\n",
    "results_df = pd.DataFrame.from_records(results)\n",
    "\n",
    "# Only get the columns that are useful\n",
    "results_df = results_df[['tree_dbh', 'health','status','latitude','longitude','spc_latin']]            \n",
    "            \n",
    "# Replaces words with numbers so that it is easier to create a 'grade' for each tree\n",
    "results_df = results_df.replace(['Poor','Fair','Good'],[0,50,100])\n",
    "\n",
    "# 'tree_dbh' was an object, this converts it to an int so that it can be added to 'health' and 'status'\n",
    "results_df['tree_dbh'] = pd.to_numeric(results_df['tree_dbh'])\n",
    "\n",
    "# Anywhere there is an 'NaN', make it a zero\n",
    "results_df = results_df.fillna(0)\n",
    "\n",
    "# Looks through list of each species and it's type\n",
    "df = pd.read_csv('Species_Types.csv')\n",
    "df = df.set_index('Species')\n",
    "\n",
    "# Decides whether each tree is deciduous, conferous, etc.\n",
    "results_df['Type'] = df.loc[results_df.spc_latin,'Type'].values\n",
    "\n",
    "# Replaces words with numbers so that it is easier to create a 'grade' for each tree\n",
    "results_df = results_df.replace(['deciduous','coniferous','evergreen','both'],[1,0,0,0])\n",
    "\n",
    "# Generates a final grade that will be the value of the weight on the heat map for each tree\n",
    "results_df['Final Grade'] = ((results_df.tree_dbh + results_df.health)/100)*results_df.Type\n",
    "\n",
    "# Removes all the trees that dont lose leaves\n",
    "results_df = results_df[results_df.Type != 0]\n",
    "results_df = results_df.fillna(0)"
   ]
  },
  {
   "cell_type": "code",
   "execution_count": 19,
   "metadata": {
    "scrolled": true
   },
   "outputs": [],
   "source": [
    "# Only gets the location of these trees\n",
    "\n",
    "treesLoc = results_df[['latitude', 'longitude']].copy()\n",
    "treesLoc.dropna(subset=['latitude','longitude'], inplace=True)"
   ]
  },
  {
   "cell_type": "code",
   "execution_count": 20,
   "metadata": {
    "scrolled": true
   },
   "outputs": [],
   "source": [
    "df_threeOneOneReq_LOC = df_threeOneOneReq[['latitude', 'longitude']].copy()\n",
    "df_threeOneOneReq_LOC.dropna(subset=['latitude','longitude'], inplace=True)"
   ]
  },
  {
   "cell_type": "code",
   "execution_count": 21,
   "metadata": {
    "scrolled": true
   },
   "outputs": [
    {
     "ename": "ModuleNotFoundError",
     "evalue": "No module named 'pysal.cg'",
     "output_type": "error",
     "traceback": [
      "\u001b[0;31m---------------------------------------------------------------------------\u001b[0m",
      "\u001b[0;31mModuleNotFoundError\u001b[0m                       Traceback (most recent call last)",
      "\u001b[0;32m<ipython-input-21-5498aff51266>\u001b[0m in \u001b[0;36m<module>\u001b[0;34m\u001b[0m\n\u001b[1;32m      7\u001b[0m \u001b[0;32mimport\u001b[0m \u001b[0mnumpy\u001b[0m \u001b[0;32mas\u001b[0m \u001b[0mnp\u001b[0m\u001b[0;34m\u001b[0m\u001b[0m\n\u001b[1;32m      8\u001b[0m \u001b[0;32mfrom\u001b[0m \u001b[0mpysal\u001b[0m\u001b[0;34m.\u001b[0m\u001b[0mlib\u001b[0m\u001b[0;34m.\u001b[0m\u001b[0mcg\u001b[0m \u001b[0;32mimport\u001b[0m \u001b[0mKDTree\u001b[0m\u001b[0;34m\u001b[0m\u001b[0m\n\u001b[0;32m----> 9\u001b[0;31m \u001b[0;32mfrom\u001b[0m \u001b[0mpysal\u001b[0m\u001b[0;34m.\u001b[0m\u001b[0mcg\u001b[0m \u001b[0;32mimport\u001b[0m \u001b[0mRADIUS_EARTH_MILES\u001b[0m\u001b[0;34m\u001b[0m\u001b[0m\n\u001b[0m\u001b[1;32m     10\u001b[0m \u001b[0;34m\u001b[0m\u001b[0m\n\u001b[1;32m     11\u001b[0m \u001b[0mcomplaints_xys\u001b[0m \u001b[0;34m=\u001b[0m \u001b[0mdf_threeOneOneReq_LOC\u001b[0m\u001b[0;34m[\u001b[0m\u001b[0;34m[\u001b[0m\u001b[0;34m'latitude'\u001b[0m\u001b[0;34m,\u001b[0m \u001b[0;34m'longitude'\u001b[0m\u001b[0;34m]\u001b[0m\u001b[0;34m]\u001b[0m\u001b[0;34m.\u001b[0m\u001b[0mastype\u001b[0m\u001b[0;34m(\u001b[0m\u001b[0mnp\u001b[0m\u001b[0;34m.\u001b[0m\u001b[0mfloat\u001b[0m\u001b[0;34m)\u001b[0m\u001b[0;34m.\u001b[0m\u001b[0mvalues\u001b[0m\u001b[0;34m\u001b[0m\u001b[0m\n",
      "\u001b[0;31mModuleNotFoundError\u001b[0m: No module named 'pysal.cg'"
     ]
    }
   ],
   "source": [
    "####################################\n",
    "#   GETTING COMPLAINT COUNTS       #                            \n",
    "#   WITHIN A 100 METER RADIUS      #\n",
    "#         OF EACH TREE             #\n",
    "####################################\n",
    "\n",
    "import numpy as np\n",
    "from pysal.lib.cg import KDTree\n",
    "from pysal.cg import RADIUS_EARTH_MILES\n",
    "\n",
    "complaints_xys = df_threeOneOneReq_LOC[['latitude', 'longitude']].astype(np.float).values \n",
    "complaints_tree = KDTree(complaints_xys, distance_metric='Arc', radius=RADIUS_EARTH_MILES)"
   ]
  },
  {
   "cell_type": "code",
   "execution_count": null,
   "metadata": {},
   "outputs": [],
   "source": [
    "complaints_count = len(complaints_xys)\n",
    "complaints_count"
   ]
  },
  {
   "cell_type": "code",
   "execution_count": null,
   "metadata": {},
   "outputs": [],
   "source": [
    "xy = 40.682460735128025,-73.8300148272251\n",
    "distances, indices = complaints_tree.query(xy, k=complaints_count, distance_upper_bound=0.5)"
   ]
  },
  {
   "cell_type": "code",
   "execution_count": null,
   "metadata": {},
   "outputs": [],
   "source": [
    "indices\n",
    "indices[~np.isnan(indices)]\n",
    "len(indices[~np.isnan(indices)])"
   ]
  },
  {
   "cell_type": "code",
   "execution_count": null,
   "metadata": {},
   "outputs": [],
   "source": [
    "# Setting radius equal to ~ 100 meters\n",
    "radius_in_miles = 0.0497097\n",
    "\n",
    "# Function that can find the number of complaints within 100 meters from each tree\n",
    "def get_complaint_count(r):\n",
    "    xy = r['latitude'], r['longitude']\n",
    "    distances, indices = complaints_tree.query(xy, k=complaints_count, distance_upper_bound=radius_in_miles)\n",
    "    indices = indices[~np.isnan(indices)]\n",
    "    return len(indices)\n",
    "\n",
    "# Applying functtion to each tree\n",
    "treesLoc = treesLoc.apply(pd.to_numeric)\n",
    "treesLoc['# of Complaints within 0.5 miles'] = treesLoc.apply(get_complaint_count,axis=1)"
   ]
  },
  {
   "cell_type": "code",
   "execution_count": null,
   "metadata": {},
   "outputs": [],
   "source": [
    "# Adding that column to the results_df\n",
    "results_df['complaints'] = treesLoc['# of Complaints within 0.5 miles']"
   ]
  },
  {
   "cell_type": "code",
   "execution_count": null,
   "metadata": {
    "scrolled": true
   },
   "outputs": [],
   "source": [
    "# This is what the final dataframe will look like\n",
    "#results_df"
   ]
  },
  {
   "cell_type": "code",
   "execution_count": null,
   "metadata": {},
   "outputs": [],
   "source": [
    "# Used to print table in final tool result\n",
    "# We most likely will not need it\n",
    "# because we are using a map\n",
    "\n",
    "from os.path import join\n",
    "target_path = join(target_folder, 'results.csv')\n",
    "results_df.to_csv(target_path, index=False)\n",
    "print('result_table_path = %s' % target_path)"
   ]
  }
 ],
 "metadata": {
  "kernelspec": {
   "display_name": "Python 3",
   "language": "python",
   "name": "python3"
  },
  "language_info": {
   "codemirror_mode": {
    "name": "ipython",
    "version": 3
   },
   "file_extension": ".py",
   "mimetype": "text/x-python",
   "name": "python",
   "nbconvert_exporter": "python",
   "pygments_lexer": "ipython3",
   "version": "3.6.6"
  }
 },
 "nbformat": 4,
 "nbformat_minor": 2
}
